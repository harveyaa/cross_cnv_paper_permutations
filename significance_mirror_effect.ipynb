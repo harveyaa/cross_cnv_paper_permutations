{
 "cells": [
  {
   "cell_type": "code",
   "execution_count": 1,
   "metadata": {},
   "outputs": [],
   "source": [
    "import pandas as pd\n",
    "import numpy as np\n",
    "import matplotlib.pyplot as plt\n",
    "import seaborn as sns\n",
    "import util\n",
    "import time\n",
    "import os \n",
    "\n",
    "from scipy.stats import pearsonr"
   ]
  },
  {
   "cell_type": "markdown",
   "metadata": {},
   "source": [
    "### Define functions"
   ]
  },
  {
   "cell_type": "code",
   "execution_count": 2,
   "metadata": {},
   "outputs": [],
   "source": [
    "#SEBASTIEN URCHS\n",
    "def p_permut(empirical_value, permutation_values):\n",
    "    n_permutation = len(permutation_values)\n",
    "    if empirical_value >= 0:\n",
    "        return (np.sum(permutation_values > empirical_value)+1) / (n_permutation + 1)\n",
    "    return (np.sum(permutation_values < empirical_value)+1) / (n_permutation + 1)"
   ]
  },
  {
   "cell_type": "markdown",
   "metadata": {},
   "source": [
    "### Define cases\n",
    "Only loci with both DEL and DUP in dataset."
   ]
  },
  {
   "cell_type": "code",
   "execution_count": 3,
   "metadata": {},
   "outputs": [],
   "source": [
    "cases = ['1q21_1','2q13','13q12_12','15q11_2','16p11_2','16p13_11','17p12','22q11_2']"
   ]
  },
  {
   "cell_type": "markdown",
   "metadata": {},
   "source": [
    "### Load null models and betamaps"
   ]
  },
  {
   "cell_type": "code",
   "execution_count": 4,
   "metadata": {},
   "outputs": [],
   "source": [
    "n_path_nomc = '/home/harveyaa/Documents/fMRI/data/ukbb_9cohorts/null_models/{}_null_model_nomc.npy'\n",
    "\n",
    "b_path_nomc = '/home/harveyaa/Documents/clara_paper/drop_maillard_15q11_2del/cc_{}_results_nomc.csv'"
   ]
  },
  {
   "cell_type": "code",
   "execution_count": 5,
   "metadata": {},
   "outputs": [],
   "source": [
    "null_del = []\n",
    "null_dup = []\n",
    "beta_del = []\n",
    "beta_dup = []\n",
    "for c in cases:\n",
    "    null_del.append(np.load(n_path_nomc.format('DEL'+c)))\n",
    "    null_dup.append(np.load(n_path_nomc.format('DUP'+c)))\n",
    "    \n",
    "    beta_del.append(pd.read_csv(b_path_nomc.format('DEL'+c))['betas'])\n",
    "    beta_dup.append(pd.read_csv(b_path_nomc.format('DUP'+c))['betas'])"
   ]
  },
  {
   "cell_type": "markdown",
   "metadata": {},
   "source": [
    "### Get difference distributions\n",
    "For each pair, difference between the mean of the real map of one and the null maps of the other and vice versa."
   ]
  },
  {
   "cell_type": "code",
   "execution_count": 6,
   "metadata": {},
   "outputs": [],
   "source": [
    "diff = np.zeros((len(cases),10000))\n",
    "for i in range(len(cases)):\n",
    "    for j in range(5000):\n",
    "        beta = beta_del[i]\n",
    "        null = null_dup[i][j]\n",
    "        diff[i,j] = np.abs(np.mean(beta) - np.mean(null))\n",
    "\n",
    "    for j in range(5000):\n",
    "        beta = beta_dup[i]\n",
    "        null = null_del[i][j]\n",
    "        diff[i,j + 5000] = np.abs(np.mean(beta) - np.mean(null))"
   ]
  },
  {
   "cell_type": "markdown",
   "metadata": {},
   "source": [
    "### Get actual differences\n",
    "For each pair, difference between the mean of the betamaps."
   ]
  },
  {
   "cell_type": "code",
   "execution_count": 8,
   "metadata": {},
   "outputs": [],
   "source": [
    "diff_bb = np.zeros(len(cases))\n",
    "for i in range(len(cases)):\n",
    "    diff_bb[i] = np.abs(np.mean(beta_del[i]) - np.mean(beta_dup[i]))"
   ]
  },
  {
   "cell_type": "markdown",
   "metadata": {},
   "source": [
    "### Calculate pvals"
   ]
  },
  {
   "cell_type": "code",
   "execution_count": 9,
   "metadata": {},
   "outputs": [],
   "source": [
    "pval = []\n",
    "for i in range(len(cases)):\n",
    "    pval.append(p_permut(diff_bb[i],diff[i,:]))"
   ]
  },
  {
   "cell_type": "code",
   "execution_count": 10,
   "metadata": {},
   "outputs": [
    {
     "data": {
      "text/plain": [
       "[0.23917608239176083,\n",
       " 0.27787221277872215,\n",
       " 0.3301669833016698,\n",
       " 0.1857814218578142,\n",
       " 0.14128587141285873,\n",
       " 0.8995100489951005,\n",
       " 0.1934806519348065,\n",
       " 0.0313968603139686]"
      ]
     },
     "execution_count": 10,
     "metadata": {},
     "output_type": "execute_result"
    }
   ],
   "source": [
    "pval"
   ]
  },
  {
   "cell_type": "code",
   "execution_count": null,
   "metadata": {},
   "outputs": [],
   "source": []
  }
 ],
 "metadata": {
  "kernelspec": {
   "display_name": "rsfmri_gcn",
   "language": "python",
   "name": "rsfmri_gcn"
  },
  "language_info": {
   "codemirror_mode": {
    "name": "ipython",
    "version": 3
   },
   "file_extension": ".py",
   "mimetype": "text/x-python",
   "name": "python",
   "nbconvert_exporter": "python",
   "pygments_lexer": "ipython3",
   "version": "3.8.3"
  }
 },
 "nbformat": 4,
 "nbformat_minor": 4
}
