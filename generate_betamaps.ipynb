{
 "cells": [
  {
   "cell_type": "code",
   "execution_count": 1,
   "id": "deluxe-newark",
   "metadata": {},
   "outputs": [],
   "source": [
    "import util\n",
    "import numpy as np\n",
    "import pandas as pd"
   ]
  },
  {
   "cell_type": "markdown",
   "id": "valuable-command",
   "metadata": {},
   "source": [
    "### Load data"
   ]
  },
  {
   "cell_type": "code",
   "execution_count": null,
   "id": "blond-chassis",
   "metadata": {},
   "outputs": [],
   "source": [
    "pheno_p = '/home/harveyaa/Documents/fMRI/data/ukbb_9cohorts/pheno_drop_maillard_15q11_2del.csv'\n",
    "path_connectomes = '/home/harveyaa/Documents/fMRI/data/ukbb_9cohorts/connectomes/connectome_{}_cambridge64.npy'\n",
    "path_out = '/home/harveyaa/Documents/clara_paper/drop_maillard_15q11_2del'\n",
    "\n",
    "pheno = pd.read_csv(path_pheno,index_col=0)\n",
    "\n",
    "mask = np.tri(64,dtype=bool)\n",
    "connectomes = np.array([np.load(path_connectomes.format(sub_id))[mask] for sub_id in pheno.index])"
   ]
  },
  {
   "cell_type": "code",
   "execution_count": null,
   "id": "brown-brook",
   "metadata": {},
   "outputs": [],
   "source": [
    "regressors_mc = ['AGE','C(SEX)','FD_scrubbed', 'C(SITE)', 'mean_conn']\n",
    "regressors_nomc = ['AGE','C(SEX)','FD_scrubbed', 'C(SITE)']"
   ]
  },
  {
   "cell_type": "markdown",
   "id": "mighty-gallery",
   "metadata": {},
   "source": [
    "## **Case control**"
   ]
  },
  {
   "cell_type": "code",
   "execution_count": 61,
   "id": "grand-stable",
   "metadata": {},
   "outputs": [],
   "source": [
    "cases = ['DEL1q21_1','DEL2q13','NRXN1del','DEL13q12_12','DEL15q11_2','DEL16p11_2','DEL16p13_11','DEL17p12','DEL22q11_2','TAR_dup',\n",
    "        'DUP1q21_1','DUP2q13','DUP13q12_12','DUP15q11_2','DUP15q13_3_CHRNA7','DUP16p11_2','DUP16p13_11','DUP17p12','DUP22q11_2',\n",
    "        'SZ','BIP','ASD','ADHD']\n",
    "ipc = ['SZ','BIP','ASD','ADHD']"
   ]
  },
  {
   "cell_type": "code",
   "execution_count": 62,
   "id": "vietnamese-honduras",
   "metadata": {},
   "outputs": [],
   "source": [
    "df_pi = pheno.groupby('PI').sum()[cases]\n",
    "mask_pi = (df_pi > 0)"
   ]
  },
  {
   "cell_type": "markdown",
   "id": "sharp-exhibit",
   "metadata": {},
   "source": [
    "### Mean Corrected"
   ]
  },
  {
   "cell_type": "code",
   "execution_count": 62,
   "id": "forced-jurisdiction",
   "metadata": {},
   "outputs": [
    {
     "name": "stdout",
     "output_type": "stream",
     "text": [
      "DEL1q21_1 ['BC', 'Cardiff', 'SFARI', 'UKBB']\n",
      "Completed DEL1q21_1.\n",
      "DEL2q13 ['UKBB']\n",
      "Completed DEL2q13.\n",
      "NRXN1del ['UKBB']\n",
      "Completed NRXN1del.\n",
      "DEL13q12_12 ['UKBB']\n",
      "Completed DEL13q12_12.\n",
      "DEL15q11_2 ['UKBB']\n",
      "Completed DEL15q11_2.\n",
      "DEL16p11_2 ['BC', 'SFARI', 'UKBB']\n",
      "Completed DEL16p11_2.\n",
      "DEL16p13_11 ['UKBB']\n",
      "Completed DEL16p13_11.\n",
      "DEL17p12 ['UKBB']\n",
      "Completed DEL17p12.\n",
      "DEL22q11_2 ['UCLA']\n",
      "Completed DEL22q11_2.\n",
      "TAR_dup ['UKBB']\n",
      "Completed TAR_dup.\n",
      "DUP1q21_1 ['SFARI', 'UKBB']\n",
      "Completed DUP1q21_1.\n",
      "DUP2q13 ['UKBB']\n",
      "Completed DUP2q13.\n",
      "DUP13q12_12 ['UKBB']\n",
      "Completed DUP13q12_12.\n",
      "DUP15q11_2 ['UKBB']\n",
      "Completed DUP15q11_2.\n",
      "DUP15q13_3_CHRNA7 ['UKBB']\n",
      "Completed DUP15q13_3_CHRNA7.\n",
      "DUP16p11_2 ['BC', 'SFARI', 'UKBB']\n",
      "Completed DUP16p11_2.\n",
      "DUP16p13_11 ['UKBB']\n",
      "Completed DUP16p13_11.\n",
      "DUP17p12 ['UKBB']\n",
      "Completed DUP17p12.\n",
      "DUP22q11_2 ['UCLA', 'UKBB']\n",
      "Completed DUP22q11_2.\n",
      "Completed SZ.\n",
      "Completed BIP.\n",
      "Completed ASD.\n",
      "Completed ADHD.\n"
     ]
    }
   ],
   "source": [
    "summaries = []\n",
    "for case in cases:\n",
    "    if case in ipc:\n",
    "        mask = util.mask_cc(pheno,case,'CON_IPC')\n",
    "    else:\n",
    "        mask_case = pheno[case].to_numpy(dtype=bool)\n",
    "        pi_list = df_pi[mask_pi[case]].index.to_list()\n",
    "        mask_con = np.array((pheno['PI'].isin(pi_list))&(pheno['non_carriers']==1))\n",
    "        mask = mask_case + mask_con\n",
    "        print(case,pi_list)\n",
    "        \n",
    "    summary = util.case_control(pheno[mask],case,regressors_mc,connectomes[mask],std=True)\n",
    "    summary.to_csv(path_out + '/cc_{}_results_mc.csv'.format(case))\n",
    "    np.savetxt(path_out + '/cc_{}_mc.tsv'.format(case),util.vec_to_connectome(summary['betas_std'].to_numpy()),delimiter='\\t')\n",
    "    \n",
    "    summaries.append(summary)\n",
    "    print('Completed {}.'.format(case))"
   ]
  },
  {
   "cell_type": "markdown",
   "id": "naked-institute",
   "metadata": {},
   "source": [
    "### No MC"
   ]
  },
  {
   "cell_type": "code",
   "execution_count": 66,
   "id": "african-sarah",
   "metadata": {},
   "outputs": [
    {
     "name": "stdout",
     "output_type": "stream",
     "text": [
      "DEL1q21_1 ['BC', 'Cardiff', 'SFARI', 'UKBB']\n",
      "Completed DEL1q21_1.\n",
      "DEL2q13 ['UKBB']\n",
      "Completed DEL2q13.\n",
      "NRXN1del ['UKBB']\n",
      "Completed NRXN1del.\n",
      "DEL13q12_12 ['UKBB']\n",
      "Completed DEL13q12_12.\n",
      "DEL15q11_2 ['UKBB']\n",
      "Completed DEL15q11_2.\n",
      "DEL16p11_2 ['BC', 'SFARI', 'UKBB']\n",
      "Completed DEL16p11_2.\n",
      "DEL16p13_11 ['UKBB']\n",
      "Completed DEL16p13_11.\n",
      "DEL17p12 ['UKBB']\n",
      "Completed DEL17p12.\n",
      "DEL22q11_2 ['UCLA']\n",
      "Completed DEL22q11_2.\n",
      "TAR_dup ['UKBB']\n",
      "Completed TAR_dup.\n",
      "DUP1q21_1 ['SFARI', 'UKBB']\n",
      "Completed DUP1q21_1.\n",
      "DUP2q13 ['UKBB']\n",
      "Completed DUP2q13.\n",
      "DUP13q12_12 ['UKBB']\n",
      "Completed DUP13q12_12.\n",
      "DUP15q11_2 ['UKBB']\n",
      "Completed DUP15q11_2.\n",
      "DUP15q13_3_CHRNA7 ['UKBB']\n",
      "Completed DUP15q13_3_CHRNA7.\n",
      "DUP16p11_2 ['BC', 'SFARI', 'UKBB']\n",
      "Completed DUP16p11_2.\n",
      "DUP16p13_11 ['UKBB']\n",
      "Completed DUP16p13_11.\n",
      "DUP17p12 ['UKBB']\n",
      "Completed DUP17p12.\n",
      "DUP22q11_2 ['UCLA', 'UKBB']\n",
      "Completed DUP22q11_2.\n",
      "Completed SZ.\n",
      "Completed BIP.\n",
      "Completed ASD.\n",
      "Completed ADHD.\n"
     ]
    }
   ],
   "source": [
    "summaries_nomc = []\n",
    "for case in cases:\n",
    "    if case in ipc:\n",
    "        mask = util.mask_cc(pheno,case,'CON_IPC')\n",
    "    else:\n",
    "        mask_case = pheno[case].to_numpy(dtype=bool)\n",
    "        pi_list = df_pi[mask_pi[case]].index.to_list()\n",
    "        mask_con = np.array((pheno['PI'].isin(pi_list))&(pheno['non_carriers']==1))\n",
    "        mask = mask_case + mask_con\n",
    "        print(case,pi_list)\n",
    "    summary = util.case_control(pheno[mask],case,regressors_nomc,connectomes[mask],std=True)\n",
    "    summary.to_csv(path_out + '/cc_{}_results_nomc.csv'.format(case))\n",
    "    np.savetxt(path_out + '/cc_{}_nomc.tsv'.format(case),util.vec_to_connectome(summary['betas_std'].to_numpy()),delimiter='\\t')\n",
    "    summaries_nomc.append(summary)\n",
    "    print('Completed {}.'.format(case))"
   ]
  },
  {
   "cell_type": "markdown",
   "id": "threatened-adelaide",
   "metadata": {},
   "source": [
    "## **Continuous scores**\n",
    "### Mean Corrected"
   ]
  },
  {
   "cell_type": "code",
   "execution_count": 70,
   "id": "bottom-processor",
   "metadata": {},
   "outputs": [],
   "source": [
    "prs = ['Stand_PRS_newCDG2_ukbb','Stand_PRS_ASD','Stand_PRS_SCZ','Stand_PRS_MDD','Stand_PRS_IQ', 'Stand_PRS_BMI','Stand_PRS_height',\n",
    "       'Stand_PRS_T2D','Stand_PRS_LDL','Stand_PRS_CKD','Stand_PRS_SA','Stand_PRS_thickness','Stand_PRS_IBD_ukbb']\n",
    "cont = prs + ['CT','SA','Vol','fluid_intelligence_score_all','Gfactor','Neuroticism']"
   ]
  },
  {
   "cell_type": "code",
   "execution_count": 72,
   "id": "rental-netherlands",
   "metadata": {},
   "outputs": [
    {
     "data": {
      "text/plain": [
       "Stand_PRS_newCDG2_ukbb           3873\n",
       "Stand_PRS_ASD                    3193\n",
       "Stand_PRS_SCZ                    3193\n",
       "Stand_PRS_MDD                    3193\n",
       "Stand_PRS_IQ                     3193\n",
       "Stand_PRS_BMI                    3193\n",
       "Stand_PRS_height                 3193\n",
       "Stand_PRS_T2D                    3193\n",
       "Stand_PRS_LDL                    3193\n",
       "Stand_PRS_CKD                    3193\n",
       "Stand_PRS_SA                     3193\n",
       "Stand_PRS_thickness              3193\n",
       "Stand_PRS_IBD_ukbb               3873\n",
       "CT                               5288\n",
       "SA                               5288\n",
       "Vol                              5288\n",
       "fluid_intelligence_score_all     5812\n",
       "Gfactor                         13490\n",
       "Neuroticism                      9327\n",
       "dtype: int64"
      ]
     },
     "execution_count": 72,
     "metadata": {},
     "output_type": "execute_result"
    }
   ],
   "source": [
    "#NaN values\n",
    "pheno[cont].isna().sum()"
   ]
  },
  {
   "cell_type": "code",
   "execution_count": 73,
   "id": "offensive-contributor",
   "metadata": {},
   "outputs": [
    {
     "name": "stdout",
     "output_type": "stream",
     "text": [
      "Completed Stand_PRS_newCDG2_ukbb.\n",
      "Completed Stand_PRS_ASD.\n",
      "Completed Stand_PRS_SCZ.\n",
      "Completed Stand_PRS_MDD.\n",
      "Completed Stand_PRS_IQ.\n",
      "Completed Stand_PRS_BMI.\n",
      "Completed Stand_PRS_height.\n",
      "Completed Stand_PRS_T2D.\n",
      "Completed Stand_PRS_LDL.\n",
      "Completed Stand_PRS_CKD.\n",
      "Completed Stand_PRS_SA.\n",
      "Completed Stand_PRS_thickness.\n",
      "Completed Stand_PRS_IBD_ukbb.\n",
      "Dropping  5288  subjects w/ NaN for CT.\n",
      "Z-scoring contrast...\n",
      "Completed CT_z.\n",
      "Dropping  5288  subjects w/ NaN for SA.\n",
      "Z-scoring contrast...\n",
      "Completed SA_z.\n",
      "Dropping  5288  subjects w/ NaN for Vol.\n",
      "Z-scoring contrast...\n",
      "Completed Vol_z.\n",
      "Dropping  5812  subjects w/ NaN for fluid_intelligence_score_all.\n",
      "Z-scoring contrast...\n",
      "Completed fluid_intelligence_score_all_z.\n",
      "Dropping  13490  subjects w/ NaN for Gfactor.\n",
      "Z-scoring contrast...\n",
      "Completed Gfactor_z.\n",
      "Dropping  9327  subjects w/ NaN for Neuroticism.\n",
      "Z-scoring contrast...\n",
      "Completed Neuroticism_z.\n"
     ]
    }
   ],
   "source": [
    "def get_year(s):\n",
    "    if isinstance(s,str):\n",
    "        return int(s.split('/')[-1])\n",
    "    else:\n",
    "        return np.nan\n",
    "\n",
    "summaries_cont_mc = []\n",
    "for c in cont:\n",
    "    p = pheno.copy()\n",
    "    p['year'] = p['date_of_attending_assessment_centre_f53_2_0'].apply(get_year)\n",
    "    \n",
    "    if ('Stand_PRS' in c):\n",
    "        p = p[p['PI']=='UKBB']\n",
    "        p = p[(p.PRS_eth == 'WB') | (p.PRS_eth == 'EUR')]\n",
    "    \n",
    "    if (c in ['Stand_PRS_SA','Stand_PRS_thickness']):\n",
    "        p = p.dropna(subset=['date_of_attending_assessment_centre_f53_2_0'])\n",
    "        p =  p[p['year'] > 2017]\n",
    "    \n",
    "    if ('Stand_' not in c):\n",
    "        print('Dropping ',p[c].isna().sum(),' subjects w/ NaN for {}.'.format(c))\n",
    "        if (p[c].isna().sum() == p.shape[0]):\n",
    "            print('ERROR: No subjects with data for {}.'.format(c))\n",
    "        p = p.dropna(subset=[c])\n",
    "        print('Z-scoring contrast...')\n",
    "        p['{}_z'.format(c)] = (p[c] - p[c].mean())/p[c].std(ddof=0)\n",
    "        c = '{}_z'.format(c)\n",
    "        \n",
    "    mask = util.mask_var(p,c)\n",
    "    \n",
    "    match_conn_mask = pheno.index.isin(p.index)\n",
    "    conn = connectomes[match_conn_mask]\n",
    "    \n",
    "    summary = util.variable_effect(p[mask],c,regressors_mc,conn[mask],std=True)\n",
    "    summary.to_csv(path_out + '/cont_{}_results_mc.csv'.format(c))\n",
    "    np.savetxt(path_out + '/cont_{}_mc.tsv'.format(c),util.vec_to_connectome(summary['betas_std'].to_numpy()),delimiter='\\t')\n",
    "    summaries_cont_mc.append(summary)\n",
    "    print('Completed {}.'.format(c))"
   ]
  },
  {
   "cell_type": "markdown",
   "id": "choice-chancellor",
   "metadata": {},
   "source": [
    "### No MC"
   ]
  },
  {
   "cell_type": "code",
   "execution_count": 76,
   "id": "biblical-conservation",
   "metadata": {},
   "outputs": [
    {
     "name": "stdout",
     "output_type": "stream",
     "text": [
      "Completed Stand_PRS_newCDG2_ukbb.\n",
      "Completed Stand_PRS_ASD.\n",
      "Completed Stand_PRS_SCZ.\n",
      "Completed Stand_PRS_MDD.\n",
      "Completed Stand_PRS_IQ.\n",
      "Completed Stand_PRS_BMI.\n",
      "Completed Stand_PRS_height.\n",
      "Completed Stand_PRS_T2D.\n",
      "Completed Stand_PRS_LDL.\n",
      "Completed Stand_PRS_CKD.\n",
      "Completed Stand_PRS_SA.\n",
      "Completed Stand_PRS_thickness.\n",
      "Completed Stand_PRS_IBD_ukbb.\n",
      "Dropping  5288  subjects w/ NaN for CT.\n",
      "Z-scoring contrast...\n",
      "Completed CT_z.\n",
      "Dropping  5288  subjects w/ NaN for SA.\n",
      "Z-scoring contrast...\n",
      "Completed SA_z.\n",
      "Dropping  5288  subjects w/ NaN for Vol.\n",
      "Z-scoring contrast...\n",
      "Completed Vol_z.\n",
      "Dropping  5812  subjects w/ NaN for fluid_intelligence_score_all.\n",
      "Z-scoring contrast...\n",
      "Completed fluid_intelligence_score_all_z.\n",
      "Dropping  13490  subjects w/ NaN for Gfactor.\n",
      "Z-scoring contrast...\n",
      "Completed Gfactor_z.\n",
      "Dropping  9327  subjects w/ NaN for Neuroticism.\n",
      "Z-scoring contrast...\n",
      "Completed Neuroticism_z.\n"
     ]
    }
   ],
   "source": [
    "def get_year(s):\n",
    "    if isinstance(s,str):\n",
    "        return int(s.split('/')[-1])\n",
    "    else:\n",
    "        return np.nan\n",
    "\n",
    "summaries_cont_nomc = []\n",
    "for c in cont:\n",
    "    p = pheno.copy()\n",
    "    p['year'] = p['date_of_attending_assessment_centre_f53_2_0'].apply(get_year)\n",
    "    \n",
    "    if ('Stand_PRS' in c):\n",
    "        p = p[p['PI']=='UKBB']\n",
    "        p = p[(p.PRS_eth == 'WB') | (p.PRS_eth == 'EUR')]\n",
    "    \n",
    "    if (c in ['Stand_PRS_SA','Stand_PRS_thickness']):\n",
    "        p = p.dropna(subset=['date_of_attending_assessment_centre_f53_2_0'])\n",
    "        p =  p[p['year'] > 2017]\n",
    "    \n",
    "    if ('Stand_' not in c):\n",
    "        print('Dropping ',p[c].isna().sum(),' subjects w/ NaN for {}.'.format(c))\n",
    "        if (p[c].isna().sum() == p.shape[0]):\n",
    "            print('ERROR: No subjects with data for {}.'.format(c))\n",
    "        p = p.dropna(subset=[c])\n",
    "        print('Z-scoring contrast...')\n",
    "        p['{}_z'.format(c)] = (p[c] - p[c].mean())/p[c].std(ddof=0)\n",
    "        c = '{}_z'.format(c)\n",
    "        \n",
    "    mask = util.mask_var(p,c)\n",
    "    \n",
    "    match_conn_mask = pheno.index.isin(p.index)\n",
    "    conn = connectomes[match_conn_mask]\n",
    "    \n",
    "    summary = util.variable_effect(p[mask],c,regressors_nomc,conn[mask],std=True)\n",
    "    summary.to_csv(path_out + '/cont_{}_results_nomc.csv'.format(c))\n",
    "    np.savetxt(path_out + '/cont_{}_nomc.tsv'.format(c),util.vec_to_connectome(summary['betas_std'].to_numpy()),delimiter='\\t')\n",
    "\n",
    "    summaries_cont_nomc.append(summary)\n",
    "    print('Completed {}.'.format(c))"
   ]
  },
  {
   "cell_type": "code",
   "execution_count": null,
   "id": "looking-registration",
   "metadata": {},
   "outputs": [],
   "source": []
  }
 ],
 "metadata": {
  "kernelspec": {
   "display_name": "GPyTorch",
   "language": "python",
   "name": "gpytorch"
  },
  "language_info": {
   "codemirror_mode": {
    "name": "ipython",
    "version": 3
   },
   "file_extension": ".py",
   "mimetype": "text/x-python",
   "name": "python",
   "nbconvert_exporter": "python",
   "pygments_lexer": "ipython3",
   "version": "3.7.10"
  }
 },
 "nbformat": 4,
 "nbformat_minor": 5
}
